{
 "cells": [
  {
   "cell_type": "markdown",
   "id": "3ce518f2-2d5c-4306-9c7e-c2b722ef35a3",
   "metadata": {},
   "source": [
    "# Malware Analysis & Triage Kit\n",
    "This notebook performs the initial stages of immediate malware triage.\n",
    "\n",
    "## How To\n",
    "Take your malware specimen and drop it into the `dropbox` directory. The notebook will walk you through the stages of initial analysis.\n",
    "\n",
    "At the end of this process, you will have a triage report in the `saved-specimens` directory. This report includes findings from initial triage, including the defanged specimen in a password-proteced Zip file and static analysis artifacts."
   ]
  },
  {
   "cell_type": "markdown",
   "id": "5f44fca4-7efb-4475-80d9-c9379cb20efe",
   "metadata": {},
   "source": [
    "# Imports and Setup"
   ]
  },
  {
   "cell_type": "code",
   "execution_count": 14,
   "id": "27c75489",
   "metadata": {},
   "outputs": [
    {
     "ename": "ModuleNotFoundError",
     "evalue": "No module named 'virus_total_apis'",
     "output_type": "error",
     "traceback": [
      "\u001b[0;31m---------------------------------------------------------------------------\u001b[0m",
      "\u001b[0;31mModuleNotFoundError\u001b[0m                       Traceback (most recent call last)",
      "Cell \u001b[0;32mIn[14], line 6\u001b[0m\n\u001b[1;32m      4\u001b[0m \u001b[38;5;28;01mimport\u001b[39;00m \u001b[38;5;21;01mos\u001b[39;00m\n\u001b[1;32m      5\u001b[0m \u001b[38;5;28;01mfrom\u001b[39;00m \u001b[38;5;21;01mgetpass\u001b[39;00m \u001b[38;5;28;01mimport\u001b[39;00m getpass\n\u001b[0;32m----> 6\u001b[0m \u001b[38;5;28;01mfrom\u001b[39;00m \u001b[38;5;21;01mvirus_total_apis\u001b[39;00m \u001b[38;5;28;01mimport\u001b[39;00m PublicApi \u001b[38;5;28;01mas\u001b[39;00m VirusTotalPublicApi\n\u001b[1;32m      7\u001b[0m \u001b[38;5;28;01mimport\u001b[39;00m \u001b[38;5;21;01mjson\u001b[39;00m\n\u001b[1;32m      8\u001b[0m \u001b[38;5;28;01mfrom\u001b[39;00m \u001b[38;5;21;01mMalwareSample\u001b[39;00m \u001b[38;5;28;01mimport\u001b[39;00m \u001b[38;5;241m*\u001b[39m\n",
      "\u001b[0;31mModuleNotFoundError\u001b[0m: No module named 'virus_total_apis'"
     ]
    }
   ],
   "source": [
    "# Imports\n",
    "from hashlib import *\n",
    "import sys\n",
    "import os\n",
    "from getpass import getpass\n",
    "from virus_total_apis import PublicApi as VirusTotalPublicApi\n",
    "import json\n",
    "from MalwareSample import *\n",
    "from pprint import pprint\n",
    "import os.path\n",
    "from time import sleep"
   ]
  },
  {
   "cell_type": "markdown",
   "id": "664c107c-4e09-4454-9d0f-14b02a4a4359",
   "metadata": {},
   "source": [
    "### Check Dropbox and Saved-Specimens"
   ]
  },
  {
   "cell_type": "code",
   "execution_count": 15,
   "id": "2c185a74-8ca6-47a9-a907-575f9977bf97",
   "metadata": {},
   "outputs": [
    {
     "name": "stdout",
     "output_type": "stream",
     "text": [
      "\u001b[34m[*]\u001b[39m Directory 'dropbox' exists.\n",
      "\u001b[34m[*]\u001b[39m Directory 'saved-specimens' exists.\n"
     ]
    }
   ],
   "source": [
    "MalwareSample.check_dir(\"dropbox\")\n",
    "MalwareSample.check_dir(\"saved-specimens\")\n",
    "empty = MalwareSample.is_dir_empty(\"dropbox\")\n",
    "if empty:\n",
    "    print(r\"  \\\\--> \" + recc + \"Put some samples in the dropbox!\")"
   ]
  },
  {
   "cell_type": "markdown",
   "id": "6040f004-b9e1-40a8-97d7-47a695a244d1",
   "metadata": {},
   "source": [
    "### Enumerate Samples in the Dropbox"
   ]
  },
  {
   "cell_type": "code",
   "execution_count": 2,
   "id": "05d854a4-2ee3-46ec-b054-9951ac45a4be",
   "metadata": {},
   "outputs": [
    {
     "name": "stdout",
     "output_type": "stream",
     "text": [
      "\u001b[34m[*]\u001b[39m Sample: dropbox/SampleNegative.txt\n",
      "\u001b[34m[*]\u001b[39m Sample: dropbox/SamplePositive.txt\n"
     ]
    }
   ],
   "source": [
    "samples=!ls dropbox/*\n",
    "for s in samples:\n",
    "    print(info + \"Sample: \" + s)"
   ]
  },
  {
   "cell_type": "code",
   "execution_count": 3,
   "id": "6ac2bf59-027e-42d6-90e0-aeed55b19080",
   "metadata": {},
   "outputs": [],
   "source": [
    "sample_obj = [MalwareSample(s) for s in samples]"
   ]
  },
  {
   "cell_type": "markdown",
   "id": "d304d261-d1d8-45da-bcb5-895bcf0fa13d",
   "metadata": {},
   "source": [
    "### Create a Saved Specimen directory for the specimen(s)"
   ]
  },
  {
   "cell_type": "code",
   "execution_count": 42,
   "id": "2180e548-b0ab-4c22-9be5-ad174c1c731f",
   "metadata": {},
   "outputs": [],
   "source": [
    "for obj in sample_obj:\n",
    "    saved_sample_name = MalwareSample.create_specimen_dirs(obj.sample_name)\n",
    "    obj.saved_sample_name = saved_sample_name"
   ]
  },
  {
   "cell_type": "markdown",
   "id": "5bbd76df",
   "metadata": {},
   "source": [
    "### Defang Sample"
   ]
  },
  {
   "cell_type": "code",
   "execution_count": 43,
   "id": "26e85823-d891-4dfb-925e-8d36f24d3cb2",
   "metadata": {},
   "outputs": [],
   "source": [
    "for obj in sample_obj:\n",
    "    sample_path = MalwareSample.move_and_defang(obj.sample_name, obj.saved_sample_name)\n",
    "    obj.sample_path = sample_path"
   ]
  },
  {
   "cell_type": "markdown",
   "id": "7532c0d9-1a4d-4cc9-af82-f9153d1aaa09",
   "metadata": {},
   "source": [
    "---"
   ]
  },
  {
   "cell_type": "markdown",
   "id": "6a11a2b7-dca9-4892-82b4-7d2c7d73956c",
   "metadata": {},
   "source": [
    "## File Hashes"
   ]
  },
  {
   "cell_type": "markdown",
   "id": "b6c61ed7-9ffe-420b-925f-4430abcc0532",
   "metadata": {},
   "source": [
    "### SHA256 Sum"
   ]
  },
  {
   "cell_type": "code",
   "execution_count": 44,
   "id": "005b84f0",
   "metadata": {},
   "outputs": [
    {
     "name": "stdout",
     "output_type": "stream",
     "text": [
      "\u001b[34m[*]\u001b[39m SampleNegative.txt: ffabe6c6a2911b4f47edaff4b5a2ffac92b891d5949bcb2e1de66c7b9743728e\n",
      "\u001b[34m[*]\u001b[39m SamplePositive.txt: 275a021bbfb6489e54d471899f7db9d1663fc695ec2fe2a2c4538aabf651fd0f\n"
     ]
    }
   ],
   "source": [
    "for obj in sample_obj:\n",
    "    hash = MalwareSample.get_sha256sum(obj.sample_path, obj.saved_sample_name)\n",
    "    obj.sha256sum = hash\n",
    "    print(info + obj.sample_name + \": \" + obj.sha256sum)"
   ]
  },
  {
   "cell_type": "markdown",
   "id": "b6262536-41fe-46ef-a122-a7128be06891",
   "metadata": {},
   "source": [
    "---"
   ]
  },
  {
   "cell_type": "markdown",
   "id": "1ba005fc-242a-44bd-9830-fe02dbd500db",
   "metadata": {},
   "source": [
    "## String Analysis"
   ]
  },
  {
   "cell_type": "markdown",
   "id": "0b20f1aa",
   "metadata": {},
   "source": [
    "### StringSifter\n",
    "StringSifter is a FLARE developed tool that uses an ML model to rank a binary's strings by relevance to malware analysis."
   ]
  },
  {
   "cell_type": "code",
   "execution_count": 26,
   "id": "d55ea3ab-ef6e-41f9-a76e-6cd8d16083ed",
   "metadata": {},
   "outputs": [
    {
     "name": "stdout",
     "output_type": "stream",
     "text": [
      "[*] Input your desired minimum string length [default is 4, 6-8 is recommended] > 6\n"
     ]
    }
   ],
   "source": [
    "length = int(input(recc + \"Input your desired minimum string length [default is 4, 6-8 is recommended] > \"))"
   ]
  },
  {
   "cell_type": "code",
   "execution_count": 38,
   "id": "6703a990-6415-4898-b395-b77dccc629fc",
   "metadata": {},
   "outputs": [
    {
     "name": "stdout",
     "output_type": "stream",
     "text": [
      "\u001b[33m[*]\u001b[39m Written to outfile: saved-specimens/05-13-2024-135417_SampleNegative.txt/StringSifter-Out.log\n",
      "\u001b[33m[*]\u001b[39m Written to outfile: saved-specimens/05-13-2024-135417_SamplePositive.txt/StringSifter-Out.log\n"
     ]
    },
    {
     "name": "stderr",
     "output_type": "stream",
     "text": [
      "sh: 1: flarestrings: not found\n",
      "sh: 1: cannot create saved-specimens/05-13-2024-135417_SampleNegative.txt/StringSifter-Out.log: Directory nonexistent\n",
      "sh: 1: cannot create saved-specimens/05-13-2024-135417_SamplePositive.txt/StringSifter-Out.log: Directory nonexistent\n",
      "sh: 1: flarestrings: not found\n"
     ]
    }
   ],
   "source": [
    "for obj in sample_obj:\n",
    "    MalwareSample.pull_strings(length, obj.saved_sample_name, obj.sample_path)"
   ]
  },
  {
   "cell_type": "markdown",
   "id": "ae8b0dfd-abcd-4215-87d9-275190551475",
   "metadata": {},
   "source": [
    "## VT Analysis\n",
    "Submit samples to Virus Total and generate a malicious confidence level."
   ]
  },
  {
   "cell_type": "code",
   "execution_count": null,
   "id": "98eea2a6-b219-4e50-ba91-9d43afa5b49c",
   "metadata": {},
   "outputs": [],
   "source": [
    "VT_API_KEY = getpass(\"Enter VirusTotal API Key (blank if none): \")"
   ]
  },
  {
   "cell_type": "code",
   "execution_count": null,
   "id": "22aaffd7-4ad5-48cf-bfac-636c62338621",
   "metadata": {},
   "outputs": [],
   "source": [
    "if VT_API_KEY:\n",
    "    vt = VirusTotalPublicApi(VT_API_KEY)\n",
    "else:\n",
    "    print(info + \"No VT API Key. Skipping...\")"
   ]
  },
  {
   "cell_type": "markdown",
   "id": "b7bfdd87-4fcb-4b05-a0e7-8b1c796f17a7",
   "metadata": {},
   "source": [
    "Note: If there are more than 4 samples in the dropbox, hashes are submitted with a sleep of 16 seconds to remain under the public API rate limit. So hit go, grab a beverage of choice, stretch out and relax. This could be a while depending on how many samples you're submitting."
   ]
  },
  {
   "cell_type": "code",
   "execution_count": null,
   "id": "eab96775-bec5-4501-bfb9-3b3695190dd0",
   "metadata": {},
   "outputs": [],
   "source": [
    "if VT_API_KEY:\n",
    "    for obj in sample_obj:\n",
    "        print(info + obj.sample_name + \":\")\n",
    "        print(r\"  \\\\--> \" + info + \"SHA256sum: \" + obj.sha256sum)\n",
    "        res = vt.get_file_report(obj.sha256sum)\n",
    "        conf = malicious_confidence(res)\n",
    "        print(r\"  \\\\--> \" + info + \"Confidence level: \" + str(conf))\n",
    "        crit_level =  determine_criticality(conf)\n",
    "        obj.criticality = crit_level\n",
    "        \n",
    "\n",
    "        if len(sample_obj) >= 5:\n",
    "            sleep(16)\n",
    "        \n",
    "else:\n",
    "    print(info + \"No VT API Key. Skipping...\")"
   ]
  },
  {
   "cell_type": "markdown",
   "id": "343fa9fa-4c44-445c-ab71-687f1e7d56fa",
   "metadata": {},
   "source": [
    "## Zip and Password Protect"
   ]
  },
  {
   "cell_type": "code",
   "execution_count": 37,
   "id": "d1d38b8e-dc28-42ba-a9ce-2ab3bf11ce61",
   "metadata": {},
   "outputs": [
    {
     "ename": "OSError",
     "evalue": "error in closing saved-specimens/05-13-2024-135417_SampleNegative.txt/05-13-2024-135417_SampleNegative.txt.zip (-102)",
     "output_type": "error",
     "traceback": [
      "\u001b[0;31m---------------------------------------------------------------------------\u001b[0m",
      "\u001b[0;31mOSError\u001b[0m                                   Traceback (most recent call last)",
      "Cell \u001b[0;32mIn[37], line 2\u001b[0m\n\u001b[1;32m      1\u001b[0m \u001b[38;5;28;01mfor\u001b[39;00m obj \u001b[38;5;129;01min\u001b[39;00m sample_obj:\n\u001b[0;32m----> 2\u001b[0m     zip_file \u001b[38;5;241m=\u001b[39m \u001b[43mMalwareSample\u001b[49m\u001b[38;5;241;43m.\u001b[39;49m\u001b[43mzip_and_password_protect\u001b[49m\u001b[43m(\u001b[49m\u001b[43mobj\u001b[49m\u001b[38;5;241;43m.\u001b[39;49m\u001b[43msample_path\u001b[49m\u001b[43m,\u001b[49m\u001b[43m \u001b[49m\u001b[43mobj\u001b[49m\u001b[38;5;241;43m.\u001b[39;49m\u001b[43msaved_sample_name\u001b[49m\u001b[43m)\u001b[49m\n\u001b[1;32m      3\u001b[0m     MalwareSample\u001b[38;5;241m.\u001b[39mdelete_unzipped_sample(obj\u001b[38;5;241m.\u001b[39msample_path, zip_file)\n",
      "File \u001b[0;32m~/code/blue-jupyter/malware-analysis/MalwareSample.py:119\u001b[0m, in \u001b[0;36mMalwareSample.zip_and_password_protect\u001b[0;34m(cls, sample_path, saved_sample_name)\u001b[0m\n\u001b[1;32m    117\u001b[0m password \u001b[38;5;241m=\u001b[39m \u001b[38;5;124m\"\u001b[39m\u001b[38;5;124minfected\u001b[39m\u001b[38;5;124m\"\u001b[39m\n\u001b[1;32m    118\u001b[0m com_lvl \u001b[38;5;241m=\u001b[39m \u001b[38;5;241m5\u001b[39m\n\u001b[0;32m--> 119\u001b[0m \u001b[43mpyminizip\u001b[49m\u001b[38;5;241;43m.\u001b[39;49m\u001b[43mcompress\u001b[49m\u001b[43m(\u001b[49m\u001b[43msample_path\u001b[49m\u001b[43m,\u001b[49m\u001b[43m \u001b[49m\u001b[38;5;28;43;01mNone\u001b[39;49;00m\u001b[43m,\u001b[49m\u001b[43m \u001b[49m\u001b[43mzip_name\u001b[49m\u001b[43m,\u001b[49m\n\u001b[1;32m    120\u001b[0m \u001b[43m                   \u001b[49m\u001b[43mpassword\u001b[49m\u001b[43m,\u001b[49m\u001b[43m \u001b[49m\u001b[43mcom_lvl\u001b[49m\u001b[43m)\u001b[49m\n\u001b[1;32m    121\u001b[0m \u001b[38;5;28;01mwith\u001b[39;00m \u001b[38;5;28mopen\u001b[39m(saved_specimens \u001b[38;5;241m+\u001b[39m saved_sample_name \u001b[38;5;241m+\u001b[39m \u001b[38;5;124m\"\u001b[39m\u001b[38;5;124m/\u001b[39m\u001b[38;5;124m\"\u001b[39m \u001b[38;5;241m+\u001b[39m \u001b[38;5;124m\"\u001b[39m\u001b[38;5;124mpassword.txt\u001b[39m\u001b[38;5;124m\"\u001b[39m, \u001b[38;5;124m\"\u001b[39m\u001b[38;5;124mw\u001b[39m\u001b[38;5;124m\"\u001b[39m) \u001b[38;5;28;01mas\u001b[39;00m password_file:\n\u001b[1;32m    122\u001b[0m     password_file\u001b[38;5;241m.\u001b[39mwrite(password)\n",
      "\u001b[0;31mOSError\u001b[0m: error in closing saved-specimens/05-13-2024-135417_SampleNegative.txt/05-13-2024-135417_SampleNegative.txt.zip (-102)"
     ]
    }
   ],
   "source": [
    "for obj in sample_obj:\n",
    "    zip_file = MalwareSample.zip_and_password_protect(obj.sample_path, obj.saved_sample_name)\n",
    "    MalwareSample.delete_unzipped_sample(obj.sample_path, zip_file)"
   ]
  },
  {
   "cell_type": "markdown",
   "id": "633b965d-d0f8-47ab-ad92-07e379e2cdbf",
   "metadata": {},
   "source": [
    "---"
   ]
  },
  {
   "cell_type": "markdown",
   "id": "1aca7034-9406-4f2a-bd8b-0b238c72db37",
   "metadata": {},
   "source": [
    "### Debug Object Vars"
   ]
  },
  {
   "cell_type": "code",
   "execution_count": 47,
   "id": "9bcc8b5c-46a0-4e5e-bdc8-a9ae68b889ce",
   "metadata": {},
   "outputs": [
    {
     "ename": "NameError",
     "evalue": "name 'pprint' is not defined",
     "output_type": "error",
     "traceback": [
      "\u001b[0;31m---------------------------------------------------------------------------\u001b[0m",
      "\u001b[0;31mNameError\u001b[0m                                 Traceback (most recent call last)",
      "Cell \u001b[0;32mIn[47], line 2\u001b[0m\n\u001b[1;32m      1\u001b[0m \u001b[38;5;28;01mfor\u001b[39;00m obj \u001b[38;5;129;01min\u001b[39;00m sample_obj:\n\u001b[0;32m----> 2\u001b[0m     \u001b[43mpprint\u001b[49m(\u001b[38;5;28mvars\u001b[39m(obj))\n",
      "\u001b[0;31mNameError\u001b[0m: name 'pprint' is not defined"
     ]
    }
   ],
   "source": [
    "for obj in sample_obj:\n",
    "    pprint(vars(obj))"
   ]
  },
  {
   "cell_type": "markdown",
   "id": "2fcac011",
   "metadata": {},
   "source": [
    "## Load modules"
   ]
  },
  {
   "cell_type": "code",
   "execution_count": 1,
   "id": "9e98c1de",
   "metadata": {},
   "outputs": [
    {
     "name": "stdout",
     "output_type": "stream",
     "text": [
      "\u001b[34m[*]\u001b[39m Sample: dropbox/SampleNegative.txt\n",
      "\u001b[34m[*]\u001b[39m Sample: dropbox/SamplePositive.txt\n",
      "[*] Loading module called (yararules) from modules/\n",
      "[*] Running module (yararules)\n",
      "[+] Rule match (simple_string_contains):\n",
      " - $a\n",
      "[*] Loading module called (yararules) from modules/\n",
      "[*] Running module (yararules)\n",
      "Module (yararules), err: No rule matches with -> saved-specimens//Malware.SamplePositive.txt.malz\n"
     ]
    }
   ],
   "source": [
    "from MalwareSample import *\n",
    "\n",
    "samples=!ls dropbox/*\n",
    "for s in samples:\n",
    "    print(info + \"Sample: \" + s)\n",
    "sample_obj = [MalwareSample(s) for s in samples]\n",
    "\n",
    "for obj in sample_obj:\n",
    "    sample_path = MalwareSample.move_and_defang(obj.sample_name, obj.saved_sample_name)\n",
    "    obj.sample_path = sample_path\n",
    "    \n",
    "for obj in sample_obj:\n",
    "    saved_sample_name = MalwareSample.create_specimen_dirs(obj.sample_name)\n",
    "    obj.saved_sample_name = saved_sample_name\n",
    "    \n",
    "for obj in sample_obj:\n",
    "    MalwareSample.mod_loader(\"yararules\", obj.sample_path, obj.saved_sample_name)\n"
   ]
  },
  {
   "cell_type": "code",
   "execution_count": null,
   "id": "1c548ae8",
   "metadata": {},
   "outputs": [],
   "source": []
  }
 ],
 "metadata": {
  "kernelspec": {
   "display_name": "Python 3 (ipykernel)",
   "language": "python",
   "name": "python3"
  },
  "language_info": {
   "codemirror_mode": {
    "name": "ipython",
    "version": 3
   },
   "file_extension": ".py",
   "mimetype": "text/x-python",
   "name": "python",
   "nbconvert_exporter": "python",
   "pygments_lexer": "ipython3",
   "version": "3.10.12"
  }
 },
 "nbformat": 4,
 "nbformat_minor": 5
}
